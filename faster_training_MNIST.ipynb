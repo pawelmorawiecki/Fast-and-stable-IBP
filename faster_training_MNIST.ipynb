{
  "nbformat": 4,
  "nbformat_minor": 0,
  "metadata": {
    "colab": {
      "name": "faster_training_MNIST.ipynb",
      "version": "0.3.2",
      "provenance": [],
      "collapsed_sections": [],
      "toc_visible": true
    },
    "kernelspec": {
      "display_name": "Python 3",
      "language": "python",
      "name": "python3"
    },
    "accelerator": "GPU"
  },
  "cells": [
    {
      "cell_type": "code",
      "metadata": {
        "colab_type": "code",
        "id": "Osqh5JlNpQ-2",
        "colab": {}
      },
      "source": [
        "import torch\n",
        "import torch.nn as nn\n",
        "import torch.optim as optim\n",
        "from torchvision import datasets, transforms\n",
        "from torch.utils.data import DataLoader, RandomSampler\n",
        "import torch.utils.data as data_utils\n",
        "#from utils import epoch, epoch_robust_bound, epoch_calculate_robust_err, Flatten, generate_kappa_schedule_CIFAR, generate_epsilon_schedule_CIFAR\n",
        "import numpy as np\n",
        "import matplotlib.pyplot as plt\n",
        "%matplotlib inline"
      ],
      "execution_count": 0,
      "outputs": []
    },
    {
      "cell_type": "code",
      "metadata": {
        "id": "nK-bEKPtwEHZ",
        "colab_type": "code",
        "outputId": "26287d9d-d57f-469e-c3bc-ce8f201dcb05",
        "colab": {
          "base_uri": "https://localhost:8080/",
          "height": 189
        }
      },
      "source": [
        "from google.colab import drive\n",
        "drive.mount('/content/gdrive')"
      ],
      "execution_count": 0,
      "outputs": [
        {
          "output_type": "stream",
          "text": [
            "Go to this URL in a browser: https://accounts.google.com/o/oauth2/auth?client_id=947318989803-6bn6qk8qdgf4n4g3pfee6491hc0brc4i.apps.googleusercontent.com&redirect_uri=urn%3Aietf%3Awg%3Aoauth%3A2.0%3Aoob&scope=email%20https%3A%2F%2Fwww.googleapis.com%2Fauth%2Fdocs.test%20https%3A%2F%2Fwww.googleapis.com%2Fauth%2Fdrive%20https%3A%2F%2Fwww.googleapis.com%2Fauth%2Fdrive.photos.readonly%20https%3A%2F%2Fwww.googleapis.com%2Fauth%2Fpeopleapi.readonly&response_type=code\n",
            "\n",
            "Enter your authorization code:\n",
            "··········\n",
            "Mounted at /content/gdrive\n"
          ],
          "name": "stdout"
        }
      ]
    },
    {
      "cell_type": "markdown",
      "metadata": {
        "id": "iuWv5TZpukKi",
        "colab_type": "text"
      },
      "source": [
        "# Utils and helper functions"
      ]
    },
    {
      "cell_type": "code",
      "metadata": {
        "id": "0kiV7tfS5c5y",
        "colab_type": "code",
        "colab": {}
      },
      "source": [
        "class Flatten(nn.Module):\n",
        "    def forward(self, x):\n",
        "        return x.view(x.shape[0], -1) "
      ],
      "execution_count": 0,
      "outputs": []
    },
    {
      "cell_type": "code",
      "metadata": {
        "id": "1XdcOwIVuv7r",
        "colab_type": "code",
        "colab": {}
      },
      "source": [
        "\n",
        "\n",
        "def epoch(loader, model, device, opt=None):\n",
        "    \"\"\"Standard training/evaluation epoch over the dataset\"\"\"\n",
        "    total_loss, total_err = 0.,0.\n",
        "    for X,y in loader:\n",
        "        X,y = X.to(device), y.to(device)\n",
        "        yp,_ = model(X)\n",
        "        loss = nn.CrossEntropyLoss()(yp,y)\n",
        "        if opt:\n",
        "            opt.zero_grad()\n",
        "            loss.backward()\n",
        "            opt.step()\n",
        "        \n",
        "        total_err += (yp.max(dim=1)[1] != y).sum().item()\n",
        "        total_loss += loss.item() * X.shape[0]\n",
        "    return total_err / len(loader.dataset), total_loss / len(loader.dataset)\n",
        "\n",
        "\n",
        "def bound_propagation(model, initial_bound):\n",
        "    l, u = initial_bound\n",
        "    bounds = []\n",
        "    bounds.append(initial_bound)\n",
        "    list_of_layers = list(model.children())\n",
        "    \n",
        "    for i in range(len(list_of_layers)):\n",
        "        layer = list_of_layers[i]\n",
        "        \n",
        "        if isinstance(layer, Flatten):\n",
        "            l_ = Flatten()(l)\n",
        "            u_ = Flatten()(u)\n",
        "\n",
        "        elif isinstance(layer, nn.Linear):\n",
        "            l_ = (layer.weight.clamp(min=0) @ l.t() + layer.weight.clamp(max=0) @ u.t() \n",
        "                  + layer.bias[:,None]).t()\n",
        "            u_ = (layer.weight.clamp(min=0) @ u.t() + layer.weight.clamp(max=0) @ l.t() \n",
        "                  + layer.bias[:,None]).t()\n",
        "            \n",
        "        elif isinstance(layer, nn.Conv2d):\n",
        "            l_ = (nn.functional.conv2d(l, layer.weight.clamp(min=0), bias=None, \n",
        "                                       stride=layer.stride, padding=layer.padding,\n",
        "                                       dilation=layer.dilation, groups=layer.groups) +\n",
        "                  nn.functional.conv2d(u, layer.weight.clamp(max=0), bias=None, \n",
        "                                       stride=layer.stride, padding=layer.padding,\n",
        "                                       dilation=layer.dilation, groups=layer.groups) +\n",
        "                  layer.bias[None,:,None,None])\n",
        "            \n",
        "            u_ = (nn.functional.conv2d(u, layer.weight.clamp(min=0), bias=None, \n",
        "                                       stride=layer.stride, padding=layer.padding,\n",
        "                                       dilation=layer.dilation, groups=layer.groups) +\n",
        "                  nn.functional.conv2d(l, layer.weight.clamp(max=0), bias=None, \n",
        "                                       stride=layer.stride, padding=layer.padding,\n",
        "                                       dilation=layer.dilation, groups=layer.groups) + \n",
        "                  layer.bias[None,:,None,None])\n",
        "            \n",
        "        elif isinstance(layer, nn.ReLU):\n",
        "            l_ = l.clamp(min=0)\n",
        "            u_ = u.clamp(min=0)\n",
        "            \n",
        "        bounds.append((l_, u_))\n",
        "        l,u = l_, u_\n",
        "    return bounds\n",
        "\n",
        "\n",
        "def interval_based_bound(model, c, bounds, idx):\n",
        "    # requires last layer to be linear\n",
        "    cW = c.t() @ model.last_linear.weight\n",
        "    cb = c.t() @ model.last_linear.bias\n",
        "    \n",
        "    l,u = bounds[-2]\n",
        "    return (cW.clamp(min=0) @ l[idx].t() + cW.clamp(max=0) @ u[idx].t() + cb[:,None]).t()\n",
        "\n",
        "\n",
        "def epoch_robust_bound(loader, model, epsilon_schedule, device, kappa_schedule, batch_counter, mse=False, opt=None):\n",
        "    robust_err = 0\n",
        "    total_robust_loss = 0\n",
        "    total_mse_loss = 0\n",
        "    total_ibp_loss = 0\n",
        "    \n",
        "    C = [-torch.eye(10).to(device) for _ in range(10)]\n",
        "    for y0 in range(10):\n",
        "        C[y0][y0,:] += 1\n",
        "    \n",
        "    for i,data in enumerate(loader,0):\n",
        "             \n",
        "        mse_loss_list = []\n",
        "        lower_bounds = []\n",
        "        upper_bounds = []\n",
        "        \n",
        "        \n",
        "        X,y = data\n",
        "        X,y = X.to(device), y.to(device)\n",
        "        \n",
        "        ###### fit loss calculation ######\n",
        "        yp,_ = model(X)\n",
        "        fit_loss = nn.CrossEntropyLoss()(yp,y)\n",
        "    \n",
        "        ###### robust loss calculation ######\n",
        "        initial_bound = (X - epsilon_schedule[batch_counter], X + epsilon_schedule[batch_counter])\n",
        "        bounds = bound_propagation(model, initial_bound)\n",
        "        robust_loss = 0\n",
        "        for y0 in range(10):\n",
        "            if sum(y==y0) > 0:\n",
        "                lower_bound = interval_based_bound(model, C[y0], bounds, y==y0)\n",
        "                robust_loss += nn.CrossEntropyLoss(reduction='sum')(-lower_bound, y[y==y0]) / X.shape[0]\n",
        "                \n",
        "                robust_err += (lower_bound.min(dim=1)[0] < 0).sum().item() #increment when true label is not winning       \n",
        "        \n",
        "        total_robust_loss += robust_loss.item() * X.shape[0]  \n",
        "        \n",
        "        ##### MSE Loss #####\n",
        "        \n",
        "        #indices_of_layers = [2,4,7,8] #CNN_small\n",
        "        indices_of_layers = [2,4,6,8,11,13,14] #CNN_medium\n",
        "        \n",
        "        \n",
        "        for i in range(len(indices_of_layers)):\n",
        "            lower_bounds.append(Flatten()(bounds[indices_of_layers[i]][0])) #lower bounds \n",
        "            upper_bounds.append(Flatten()(bounds[indices_of_layers[i]][1])) #upper bounds \n",
        "            mse_loss_list.append(nn.MSELoss()(lower_bounds[i], upper_bounds[i]))\n",
        "            #mse_loss_list.append(RMSELoss(lower_bounds[i], upper_bounds[i]))\n",
        "            #mse_loss_list.append(Log_Product_Loss(lower_bounds[i], upper_bounds[i]))\n",
        "            #mse_loss_list.append(MAELoss(lower_bounds[i], upper_bounds[i]))\n",
        "            #mse_loss_list.append(Log_Product_MAE(lower_bounds[i], upper_bounds[i]))\n",
        "            \n",
        "        \n",
        "        mse_loss = mse_loss_list[0] + mse_loss_list[1] + mse_loss_list[2] + mse_loss_list[3] + mse_loss_list[4] + mse_loss_list[5] + mse_loss_list[6]\n",
        "        total_mse_loss += mse_loss.item()\n",
        "        \n",
        "        ###### combined losss ######\n",
        "        \n",
        "        ibp_loss = kappa_schedule[batch_counter]*fit_loss + (1-kappa_schedule[batch_counter])*robust_loss\n",
        "        \n",
        "        if (mse==True): combined_loss =  ibp_loss + mse_loss\n",
        "        else: combined_loss =  ibp_loss\n",
        "\n",
        "        total_ibp_loss += ibp_loss.item()\n",
        "        \n",
        "        batch_counter +=1\n",
        "         \n",
        "        if opt:\n",
        "            opt.zero_grad()\n",
        "            combined_loss.backward()\n",
        "            opt.step() \n",
        "        \n",
        "    return robust_err / len(loader.dataset), total_ibp_loss / len(loader.dataset), total_mse_loss/ len(loader.dataset)\n",
        "\n",
        "        \n",
        "def epoch_calculate_robust_err (loader, model, epsilon, device):\n",
        "    robust_err = 0.0\n",
        "    \n",
        "    C = [-torch.eye(10).to(device) for _ in range(10)]\n",
        "    for y0 in range(10):\n",
        "        C[y0][y0,:] += 1\n",
        "\n",
        "\n",
        "    for X,y in loader:\n",
        "        X,y = X.to(device), y.to(device)\n",
        "        \n",
        "        initial_bound = (X - epsilon, X + epsilon)\n",
        "        bounds = bound_propagation(model, initial_bound)\n",
        "\n",
        "        for y0 in range(10):\n",
        "            if sum(y==y0) > 0:\n",
        "                lower_bound = interval_based_bound(model, C[y0], bounds, y==y0)                \n",
        "                robust_err += (lower_bound.min(dim=1)[0] < 0).sum().item() #increment when true label is not winning       \n",
        "        \n",
        "    return robust_err / len(loader.dataset)\n",
        "        \n",
        "        \n",
        "\n",
        "\n",
        "def generate_kappa_schedule_MNIST():\n",
        "\n",
        "    kappa_schedule = 2000*[1] # warm-up phase\n",
        "    kappa_value = 1.0\n",
        "    step = 0.5/58000\n",
        "    \n",
        "    for i in range(58000):\n",
        "        kappa_value = kappa_value - step\n",
        "        kappa_schedule.append(kappa_value)\n",
        "    \n",
        "    return kappa_schedule\n",
        "\n",
        "def generate_epsilon_schedule_MNIST(epsilon_train):\n",
        "    \n",
        "    epsilon_schedule = []\n",
        "    step = epsilon_train/10000\n",
        "            \n",
        "    for i in range(10000):\n",
        "        epsilon_schedule.append(i*step) #ramp-up phase\n",
        "    \n",
        "    for i in range(50000):\n",
        "        epsilon_schedule.append(epsilon_train)\n",
        "        \n",
        "    return epsilon_schedule\n",
        "\n",
        "\n",
        "def generate_kappa_schedule_CIFAR():\n",
        "\n",
        "    kappa_schedule = 10000*[1] # warm-up phase\n",
        "    kappa_value = 1.0\n",
        "    step = 0.5/340000\n",
        "    \n",
        "    for i in range(340000):\n",
        "        kappa_value = kappa_value - step\n",
        "        kappa_schedule.append(kappa_value)\n",
        "    \n",
        "    return kappa_schedule\n",
        "\n",
        "def generate_epsilon_schedule_CIFAR(epsilon_train):\n",
        "    \n",
        "    epsilon_schedule = []\n",
        "    step = epsilon_train/150000\n",
        "            \n",
        "    for i in range(150000):\n",
        "        epsilon_schedule.append(i*step) #ramp-up phase\n",
        "    \n",
        "    for i in range(200000):\n",
        "        epsilon_schedule.append(epsilon_train)\n",
        "        \n",
        "    return epsilon_schedule \n",
        "  \n",
        "  \n",
        "def pgd_linf_rand(model, X, y, epsilon, alpha, num_iter, restarts):\n",
        "    \"\"\" Construct PGD adversarial examples on the samples X, with random restarts\"\"\"\n",
        "    max_loss = torch.zeros(y.shape[0]).to(y.device)\n",
        "    max_delta = torch.zeros_like(X)\n",
        "    \n",
        "    for i in range(restarts):\n",
        "        delta = torch.rand_like(X, requires_grad=True)\n",
        "        delta.data = delta.data * 2 * epsilon - epsilon\n",
        "        \n",
        "        for t in range(num_iter):\n",
        "            loss = nn.CrossEntropyLoss()(model(X + delta)[0], y)\n",
        "            loss.backward()\n",
        "            delta.data = (delta + alpha*delta.grad.detach().sign()).clamp(-epsilon,epsilon)\n",
        "            delta.grad.zero_()\n",
        "        \n",
        "        all_loss = nn.CrossEntropyLoss(reduction='none')(model(X+delta)[0],y)\n",
        "        max_delta[all_loss >= max_loss] = delta.detach()[all_loss >= max_loss]\n",
        "        max_loss = torch.max(max_loss, all_loss)\n",
        "        \n",
        "    return max_delta\n",
        "\n",
        "\n",
        "def epoch_adversarial(model, loader, attack, *args):\n",
        "    total_loss, total_err = 0.,0.\n",
        "    for X,y in loader:\n",
        "        X,y = X.to(device), y.to(device)\n",
        "        delta = attack(model, X, y, *args)\n",
        "        yp = model(X+delta)[0]\n",
        "        loss = nn.CrossEntropyLoss()(yp,y)\n",
        "        \n",
        "        total_err += (yp.max(dim=1)[1] != y).sum().item()\n",
        "        total_loss += loss.item() * X.shape[0]\n",
        "    return total_err / len(loader.dataset), total_loss / len(loader.dataset)"
      ],
      "execution_count": 0,
      "outputs": []
    },
    {
      "cell_type": "markdown",
      "metadata": {
        "id": "q7bW3yTVvMLW",
        "colab_type": "text"
      },
      "source": [
        "# Loading dataset"
      ]
    },
    {
      "cell_type": "code",
      "metadata": {
        "colab_type": "code",
        "id": "jMEAJ22NpQ-9",
        "outputId": "ed266591-1b5f-4e08-f610-d8e7978f02f7",
        "colab": {
          "base_uri": "https://localhost:8080/",
          "height": 34
        }
      },
      "source": [
        "device = torch.device(\"cuda:0\" if torch.cuda.is_available() else \"cpu\")\n",
        "torch.manual_seed(0)"
      ],
      "execution_count": 0,
      "outputs": [
        {
          "output_type": "execute_result",
          "data": {
            "text/plain": [
              "<torch._C.Generator at 0x7f5b1dfa1130>"
            ]
          },
          "metadata": {
            "tags": []
          },
          "execution_count": 6
        }
      ]
    },
    {
      "cell_type": "code",
      "metadata": {
        "id": "Bsuf3Cf3orpv",
        "colab_type": "code",
        "outputId": "49f8d691-4b4f-4043-ea9c-be8a902a774c",
        "colab": {
          "base_uri": "https://localhost:8080/",
          "height": 275
        }
      },
      "source": [
        "mnist_train = datasets.MNIST(\"./\", train=True, download=True, transform=transforms.ToTensor())\n",
        "mnist_test = datasets.MNIST(\"./\", train=False, download=True, transform=transforms.ToTensor())\n",
        "train_loader = DataLoader(mnist_train, batch_size = 100, shuffle=True)\n",
        "test_loader = DataLoader(mnist_test, batch_size = 100, shuffle=False)"
      ],
      "execution_count": 0,
      "outputs": [
        {
          "output_type": "stream",
          "text": [
            "\r0it [00:00, ?it/s]"
          ],
          "name": "stderr"
        },
        {
          "output_type": "stream",
          "text": [
            "Downloading http://yann.lecun.com/exdb/mnist/train-images-idx3-ubyte.gz to ./MNIST/raw/train-images-idx3-ubyte.gz\n"
          ],
          "name": "stdout"
        },
        {
          "output_type": "stream",
          "text": [
            "9920512it [00:01, 8586019.13it/s]                            \n"
          ],
          "name": "stderr"
        },
        {
          "output_type": "stream",
          "text": [
            "Extracting ./MNIST/raw/train-images-idx3-ubyte.gz\n"
          ],
          "name": "stdout"
        },
        {
          "output_type": "stream",
          "text": [
            "  0%|          | 0/28881 [00:00<?, ?it/s]"
          ],
          "name": "stderr"
        },
        {
          "output_type": "stream",
          "text": [
            "Downloading http://yann.lecun.com/exdb/mnist/train-labels-idx1-ubyte.gz to ./MNIST/raw/train-labels-idx1-ubyte.gz\n"
          ],
          "name": "stdout"
        },
        {
          "output_type": "stream",
          "text": [
            "32768it [00:00, 135554.88it/s]           \n",
            "  0%|          | 0/1648877 [00:00<?, ?it/s]"
          ],
          "name": "stderr"
        },
        {
          "output_type": "stream",
          "text": [
            "Extracting ./MNIST/raw/train-labels-idx1-ubyte.gz\n",
            "Downloading http://yann.lecun.com/exdb/mnist/t10k-images-idx3-ubyte.gz to ./MNIST/raw/t10k-images-idx3-ubyte.gz\n"
          ],
          "name": "stdout"
        },
        {
          "output_type": "stream",
          "text": [
            "1654784it [00:00, 2225989.02it/s]                            \n",
            "0it [00:00, ?it/s]"
          ],
          "name": "stderr"
        },
        {
          "output_type": "stream",
          "text": [
            "Extracting ./MNIST/raw/t10k-images-idx3-ubyte.gz\n",
            "Downloading http://yann.lecun.com/exdb/mnist/t10k-labels-idx1-ubyte.gz to ./MNIST/raw/t10k-labels-idx1-ubyte.gz\n"
          ],
          "name": "stdout"
        },
        {
          "output_type": "stream",
          "text": [
            "8192it [00:00, 50135.46it/s]            \n"
          ],
          "name": "stderr"
        },
        {
          "output_type": "stream",
          "text": [
            "Extracting ./MNIST/raw/t10k-labels-idx1-ubyte.gz\n",
            "Processing...\n",
            "Done!\n"
          ],
          "name": "stdout"
        }
      ]
    },
    {
      "cell_type": "markdown",
      "metadata": {
        "colab_type": "text",
        "id": "8CJe2L46pQ_z"
      },
      "source": [
        "# Model"
      ]
    },
    {
      "cell_type": "code",
      "metadata": {
        "id": "HGimdiOImLDu",
        "colab_type": "code",
        "colab": {}
      },
      "source": [
        "class CNN_small(torch.nn.Module):\n",
        "    def __init__(self):\n",
        "\n",
        "        super(CNN_small, self).__init__()\n",
        "        \n",
        "        self.conv1 = nn.Conv2d(3, 16, 4, padding=0, stride=2)\n",
        "        self.relu1 = nn.ReLU()\n",
        "        self.conv2 = nn.Conv2d(16, 32, 4, padding=0, stride=1)\n",
        "        self.relu2 = nn.ReLU()\n",
        "        self.flat = Flatten()\n",
        "        self.linear1 = nn.Linear(32*12*12, 100)\n",
        "        self.relu3 = nn.ReLU()\n",
        "        self.last_linear = nn.Linear(100, 10)                \n",
        "        \n",
        "    def forward(self, x):\n",
        "        \n",
        "        hidden_activations = []\n",
        "        \n",
        "        x = self.conv1(x)\n",
        "        x = self.relu1(x)\n",
        "        hidden_activations.append(x)\n",
        "        \n",
        "        x = self.conv2(x)\n",
        "        x = self.relu2(x)\n",
        "        hidden_activations.append(x)\n",
        "        \n",
        "        x = self.flat(x)\n",
        "        x = self.linear1(x)\n",
        "        x = self.relu3(x)\n",
        "        hidden_activations.append(x)\n",
        "        \n",
        "        out = self.last_linear(x)\n",
        "        hidden_activations.append(out)\n",
        "        \n",
        "        return out, hidden_activations"
      ],
      "execution_count": 0,
      "outputs": []
    },
    {
      "cell_type": "code",
      "metadata": {
        "id": "OHXddnGZIhdl",
        "colab_type": "code",
        "colab": {}
      },
      "source": [
        "class CNN_medium(torch.nn.Module):\n",
        "    def __init__(self):\n",
        "\n",
        "        super(CNN_medium, self).__init__()\n",
        "        \n",
        "        self.conv1 = nn.Conv2d(1, 32, 3, padding=0, stride=1)\n",
        "        self.relu1 = nn.ReLU() \n",
        "        self.conv2 = nn.Conv2d(32, 32, 4, padding=0, stride=2)\n",
        "        self.relu2 = nn.ReLU()\n",
        "        self.conv3 = nn.Conv2d(32, 64, 3, padding=0, stride=1)\n",
        "        self.relu3 = nn.ReLU()\n",
        "        self.conv4 = nn.Conv2d(64, 64, 4, padding=0, stride=2)\n",
        "        self.relu4 = nn.ReLU()\n",
        "        self.flat = Flatten()\n",
        "        self.linear1 = nn.Linear(64*4*4, 512)\n",
        "        self.relu5 = nn.ReLU()\n",
        "        self.linear2 = nn.Linear(512, 512)\n",
        "        self.relu6 = nn.ReLU()\n",
        "        self.last_linear = nn.Linear(512, 10)                \n",
        "        \n",
        "    def forward(self, x):\n",
        "        \n",
        "        hidden_activations = []\n",
        "        \n",
        "        x = self.conv1(x)\n",
        "        x = self.relu1(x)\n",
        "\n",
        "        \n",
        "        x = self.conv2(x)\n",
        "        x = self.relu2(x)\n",
        "\n",
        "        x = self.conv3(x)\n",
        "        x = self.relu3(x)\n",
        "\n",
        "        \n",
        "        x = self.conv4(x)\n",
        "        x = self.relu4(x)\n",
        "        x = self.flat(x)\n",
        "\n",
        "\n",
        "        x = self.linear1(x)\n",
        "        x = self.relu5(x)\n",
        "\n",
        "\n",
        "        x = self.linear2(x)\n",
        "        x = self.relu6(x)\n",
        "\n",
        "        \n",
        "        out = self.last_linear(x)\n",
        "\n",
        "        \n",
        "        return out, hidden_activations"
      ],
      "execution_count": 0,
      "outputs": []
    },
    {
      "cell_type": "markdown",
      "metadata": {
        "colab_type": "text",
        "id": "KBRQTG-zpQ_3"
      },
      "source": [
        "# Training"
      ]
    },
    {
      "cell_type": "code",
      "metadata": {
        "colab_type": "code",
        "id": "QgFHqVWQpQ_4",
        "colab": {}
      },
      "source": [
        "\n",
        "EPSILON = 0.4\n",
        "EPSILON_TRAIN = 0.4\n",
        "epsilon_schedule = generate_epsilon_schedule_MNIST(EPSILON_TRAIN)\n",
        "kappa_schedule = generate_kappa_schedule_MNIST()\n",
        "batch_counter = 0\n",
        "\n",
        "\n",
        "filename1 = '/content/gdrive/My Drive/Colab Notebooks/results/faster_training_MNIST_IBP_test_error.txt'\n",
        "ibp_test_error = []\n",
        "filename2 = '/content/gdrive/My Drive/Colab Notebooks/results/faster_training_MNIST_IBP_verified_test_error.txt'\n",
        "ibp_verified_test_error = []\n",
        "filename3 = '/content/gdrive/My Drive/Colab Notebooks/results/faster_training_MNIST_IBP_mse_loss.txt'\n",
        "ibp_mse_loss = []\n",
        "\n",
        "\n",
        "mse = False\n",
        "model = CNN_medium().to(device)\n",
        "opt = optim.Adam(model.parameters(), lr=1e-3)\n",
        "\n",
        "for t in range(25):\n",
        "  _, ibp_loss, mse_loss = epoch_robust_bound(train_loader, model, epsilon_schedule, device, kappa_schedule, batch_counter, mse, opt)\n",
        "  batch_counter += 600\n",
        "  verified = epoch_calculate_robust_err(test_loader, model, EPSILON, device)\n",
        "  test_err,_ = epoch(test_loader, model, device)\n",
        "  \n",
        "  ibp_test_error.append(test_err)\n",
        "  ibp_verified_test_error.append(verified)\n",
        "  ibp_mse_loss.append(mse_loss)\n",
        "  print (t)\n",
        "  \n",
        "np.savetxt(filename1, ibp_test_error)\n",
        "np.savetxt(filename2, ibp_verified_test_error)\n",
        "np.savetxt(filename3, ibp_mse_loss)\n",
        "  \n",
        "\n",
        "batch_counter = 0\n",
        "filename4 = '/content/gdrive/My Drive/Colab Notebooks/results/faster_training_MNIST_EXTRA_IBP_test_error.txt'\n",
        "extra_ibp_test_error = []\n",
        "filename5 = '/content/gdrive/My Drive/Colab Notebooks/results/faster_training_MNIST_EXTRA_IBP_verified_test_error.txt'\n",
        "extra_ibp_verified_test_error = []\n",
        "filename6 = '/content/gdrive/My Drive/Colab Notebooks/results/faster_training_MNIST_EXTRA_IBP_mse_loss.txt'\n",
        "extra_ibp_mse_loss = []\n",
        "\n",
        "mse = True\n",
        "model = CNN_medium().to(device)\n",
        "opt = optim.Adam(model.parameters(), lr=1e-3)\n",
        "\n",
        "for t in range(25):\n",
        "  _, ibp_loss, mse_loss = epoch_robust_bound(train_loader, model, epsilon_schedule, device, kappa_schedule, batch_counter, mse, opt)\n",
        "  batch_counter += 600\n",
        "  verified = epoch_calculate_robust_err(test_loader, model, EPSILON, device)\n",
        "  test_err,_ = epoch(test_loader, model, device)\n",
        "  \n",
        "  extra_ibp_test_error.append(test_err)\n",
        "  extra_ibp_verified_test_error.append(verified)\n",
        "  extra_ibp_mse_loss.append(mse_loss)\n",
        "  print (t)\n",
        "  \n",
        "np.savetxt(filename4, extra_ibp_test_error)\n",
        "np.savetxt(filename5, extra_ibp_verified_test_error)\n",
        "np.savetxt(filename6, extra_ibp_mse_loss)"
      ],
      "execution_count": 0,
      "outputs": []
    },
    {
      "cell_type": "code",
      "metadata": {
        "id": "U_M1I7GolDo8",
        "colab_type": "code",
        "colab": {}
      },
      "source": [
        ""
      ],
      "execution_count": 0,
      "outputs": []
    }
  ]
}